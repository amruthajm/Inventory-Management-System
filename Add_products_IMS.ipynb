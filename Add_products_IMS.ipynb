{
  "nbformat": 4,
  "nbformat_minor": 0,
  "metadata": {
    "colab": {
      "name": "Add_products_IMS.ipynb",
      "provenance": []
    },
    "kernelspec": {
      "name": "python3",
      "display_name": "Python 3"
    },
    "language_info": {
      "name": "python"
    }
  },
  "cells": [
    {
      "cell_type": "code",
      "metadata": {
        "id": "4KmJ-_8nqN9E"
      },
      "source": [
        "import json\n",
        "fd = open(\"record.json\",'r')\n",
        "r = fd.read()\n",
        "fd.close()\n",
        "\n",
        "record = json.loads(r)"
      ],
      "execution_count": 21,
      "outputs": []
    },
    {
      "cell_type": "code",
      "metadata": {
        "colab": {
          "base_uri": "https://localhost:8080/"
        },
        "id": "8lP_veYNxDlY",
        "outputId": "8d1d049e-32f0-4d0c-b4e6-c1743c40627c"
      },
      "source": [
        "record"
      ],
      "execution_count": 22,
      "outputs": [
        {
          "output_type": "execute_result",
          "data": {
            "text/plain": [
              "{'1001': {'name': 'Marker', 'pr': 100, 'qn': 40},\n",
              " '1002': {'name': 'C-type cable', 'pr': 90, 'qn': 100},\n",
              " '1003': {'name': 'Ox-cable', 'pr': 99, 'qn': 100},\n",
              " '1004': {'name': 'Pencil', 'pr': 4, 'qn': 1000},\n",
              " '1005': {'name': 'Pen', 'pr': 20, 'qn': 100},\n",
              " '1006': {'name': 'Phone', 'pr': 50000, 'qn': 10},\n",
              " '1007': {'name': 'Mic', 'pr': 1500, 'qn': 0},\n",
              " '1008': {'name': 'Case', 'pr': 599, 'qn': 5},\n",
              " '1009': {'name': 'Keyboard', 'pr': 1999, 'qn': 10},\n",
              " '1010': {'name': 'Mouse', 'pr': 999, 'qn': 15},\n",
              " '1011': {'name': 'Blutooth Speaker', 'pr': 2999, 'qn': 10},\n",
              " '1012': {'name': 'Earphones', 'pr': 499, 'qn': 24},\n",
              " '1013': {'name': 'Wireless Headphone', 'pr': 2299, 'qn': 17},\n",
              " '1014': {'name': 'Laptop', 'pr': 41999, 'qn': 7},\n",
              " '1015': {'name': 'Projector', 'pr': 3999, 'qn': 22},\n",
              " '1016': {'name': 'Pendrive 16GB', 'pr': 240, 'qn': 87},\n",
              " '1017': {'name': 'Pendrive 64GB', 'pr': 599, 'qn': 90},\n",
              " '1018': {'name': 'Stylus', 'pr': 680, 'qn': 10},\n",
              " '1019': {'name': 'Tablet', 'pr': 19000, 'qn': 6},\n",
              " '1020': {'name': 'Mobile-Touchscreen', 'pr': 13000, 'qn': 15},\n",
              " '1021': {'name': 'Mobile-Keypad', 'pr': 1999, 'qn': 12},\n",
              " '1022': {'name': 'Earbuds', 'pr': 1999, 'qn': 25},\n",
              " '1023': {'name': 'Laptop Stickers', 'pr': 199, 'qn': 130},\n",
              " '1024': {'name': 'Camera', 'pr': 1580, 'qn': 10},\n",
              " '1025': {'name': 'Wireless Security Camera', 'pr': 799, 'qn': 8},\n",
              " '1026': {'name': 'Laptop Bag', 'pr': 800, 'qn': 18},\n",
              " '1027': {'name': 'Learning Pad', 'pr': 299, 'qn': 25}}"
            ]
          },
          "metadata": {},
          "execution_count": 22
        }
      ]
    },
    {
      "cell_type": "code",
      "metadata": {
        "colab": {
          "base_uri": "https://localhost:8080/"
        },
        "id": "V7DqPmdGqQJX",
        "outputId": "48c62688-24fe-40db-b2b1-206432ba9bef"
      },
      "source": [
        "while(True):\n",
        "  prod_id = str(input(\"Enter product id:\"))\n",
        "  name = str(input(\"Enter name:\"))\n",
        "  pr = int(input(\"Enter price:\"))\n",
        "  qn = int(input(\"Enter quantity:\"))\n",
        "\n",
        "  record[prod_id] = {'name': name, 'pr': pr, 'qn': qn}\n",
        "\n",
        "  js = json.dumps(record)\n",
        "\n",
        "  fd = open(\"record.json\",'w')\n",
        "  fd.write(js)\n",
        "  fd.close()\n",
        "  c=input(print(\"Do you want to add more products(y/n)?\"))\n",
        "  if c=='n'or c==\"N\":\n",
        "    break"
      ],
      "execution_count": 31,
      "outputs": [
        {
          "name": "stdout",
          "output_type": "stream",
          "text": [
            "Enter product id:1028\n",
            "Enter name:Port-C charger\n",
            "Enter price:500\n",
            "Enter quantity:20\n",
            "Do you want to add more products(y/n)?\n",
            "y\n",
            "Enter product id:1029\n",
            "Enter name:Mobile stand\n",
            "Enter price:650\n",
            "Enter quantity:14\n",
            "Do you want to add more products(y/n)?\n",
            "y\n",
            "Enter product id:1030\n",
            "Enter name:Laptop Cover\n",
            "Enter price:499\n",
            "Enter quantity:16\n",
            "Do you want to add more products(y/n)?\n",
            "y\n",
            "Enter product id:1031\n",
            "Enter name:Cake\n",
            "Enter price:40\n",
            "Enter quantity:3\n",
            "Do you want to add more products(y/n)?\n",
            "n\n"
          ]
        }
      ]
    },
    {
      "cell_type": "code",
      "metadata": {
        "id": "flDlY-dSy0UX"
      },
      "source": [
        "del record['1031']"
      ],
      "execution_count": 32,
      "outputs": []
    },
    {
      "cell_type": "code",
      "metadata": {
        "id": "0OqYRYWay_Kp"
      },
      "source": [
        "js = json.dumps(record)\n",
        "fd = open(\"record.json\",'w')\n",
        "fd.write(js)\n",
        "fd.close()"
      ],
      "execution_count": 33,
      "outputs": []
    },
    {
      "cell_type": "code",
      "metadata": {
        "colab": {
          "base_uri": "https://localhost:8080/"
        },
        "id": "2_XiEliuyTa1",
        "outputId": "4c00bf92-d57c-41ba-d8ac-ab46e6e42b6d"
      },
      "source": [
        "record"
      ],
      "execution_count": 34,
      "outputs": [
        {
          "output_type": "execute_result",
          "data": {
            "text/plain": [
              "{'1001': {'name': 'Marker', 'pr': 100, 'qn': 40},\n",
              " '1002': {'name': 'C-type cable', 'pr': 90, 'qn': 100},\n",
              " '1003': {'name': 'Ox-cable', 'pr': 99, 'qn': 100},\n",
              " '1004': {'name': 'Pencil', 'pr': 4, 'qn': 1000},\n",
              " '1005': {'name': 'Pen', 'pr': 20, 'qn': 100},\n",
              " '1006': {'name': 'Phone', 'pr': 50000, 'qn': 10},\n",
              " '1007': {'name': 'Mic', 'pr': 1500, 'qn': 0},\n",
              " '1008': {'name': 'Case', 'pr': 599, 'qn': 5},\n",
              " '1009': {'name': 'Keyboard', 'pr': 1999, 'qn': 10},\n",
              " '1010': {'name': 'Mouse', 'pr': 999, 'qn': 15},\n",
              " '1011': {'name': 'Blutooth Speaker', 'pr': 2999, 'qn': 10},\n",
              " '1012': {'name': 'Earphones', 'pr': 499, 'qn': 24},\n",
              " '1013': {'name': 'Wireless Headphone', 'pr': 2299, 'qn': 17},\n",
              " '1014': {'name': 'Laptop', 'pr': 41999, 'qn': 7},\n",
              " '1015': {'name': 'Projector', 'pr': 3999, 'qn': 22},\n",
              " '1016': {'name': 'Pendrive 16GB', 'pr': 240, 'qn': 87},\n",
              " '1017': {'name': 'Pendrive 64GB', 'pr': 599, 'qn': 90},\n",
              " '1018': {'name': 'Stylus', 'pr': 680, 'qn': 10},\n",
              " '1019': {'name': 'Tablet', 'pr': 19000, 'qn': 6},\n",
              " '1020': {'name': 'Mobile-Touchscreen', 'pr': 13000, 'qn': 15},\n",
              " '1021': {'name': 'Mobile-Keypad', 'pr': 1999, 'qn': 12},\n",
              " '1022': {'name': 'Earbuds', 'pr': 1999, 'qn': 25},\n",
              " '1023': {'name': 'Laptop Stickers', 'pr': 199, 'qn': 130},\n",
              " '1024': {'name': 'Camera', 'pr': 1580, 'qn': 10},\n",
              " '1025': {'name': 'Wireless Security Camera', 'pr': 799, 'qn': 8},\n",
              " '1026': {'name': 'Laptop Bag', 'pr': 800, 'qn': 18},\n",
              " '1027': {'name': 'Learning Pad', 'pr': 299, 'qn': 25},\n",
              " '1028': {'name': 'Port-C charger', 'pr': 500, 'qn': 20},\n",
              " '1029': {'name': 'Mobile stand', 'pr': 650, 'qn': 14},\n",
              " '1030': {'name': 'Laptop Cover', 'pr': 499, 'qn': 16}}"
            ]
          },
          "metadata": {},
          "execution_count": 34
        }
      ]
    },
    {
      "cell_type": "code",
      "metadata": {
        "id": "VjV5NWcLyzHS"
      },
      "source": [
        ""
      ],
      "execution_count": null,
      "outputs": []
    }
  ]
}