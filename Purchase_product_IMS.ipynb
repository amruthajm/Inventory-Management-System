{
  "nbformat": 4,
  "nbformat_minor": 0,
  "metadata": {
    "colab": {
      "name": "Purchase_product_IMS.ipynb",
      "provenance": []
    },
    "kernelspec": {
      "name": "python3",
      "display_name": "Python 3"
    },
    "language_info": {
      "name": "python"
    }
  },
  "cells": [
    {
      "cell_type": "markdown",
      "metadata": {
        "id": "xwcXPCRnimt8"
      },
      "source": [
        "## Read Inventory"
      ]
    },
    {
      "cell_type": "code",
      "metadata": {
        "id": "AXxq7FTLieCV"
      },
      "source": [
        "import json\n",
        "\n",
        "fd = open(\"record.json\",'r')\n",
        "r = fd.read()\n",
        "fd.close()\n",
        "\n",
        "records = json.loads(r)"
      ],
      "execution_count": 55,
      "outputs": []
    },
    {
      "cell_type": "code",
      "metadata": {
        "colab": {
          "base_uri": "https://localhost:8080/"
        },
        "id": "OG26n5Ypi7L0",
        "outputId": "1cb60069-3f6c-439a-c175-2c42d28c9caa"
      },
      "source": [
        "records"
      ],
      "execution_count": 56,
      "outputs": [
        {
          "output_type": "execute_result",
          "data": {
            "text/plain": [
              "{'1001': {'name': 'Marker', 'pr': 100, 'qn': 40},\n",
              " '1002': {'name': 'C-type cable', 'pr': 90, 'qn': 100},\n",
              " '1003': {'name': 'Ox-cable', 'pr': 99, 'qn': 88},\n",
              " '1004': {'name': 'Pencil', 'pr': 4, 'qn': 1000},\n",
              " '1005': {'name': 'Pen', 'pr': 20, 'qn': 99},\n",
              " '1006': {'name': 'Phone', 'pr': 50000, 'qn': 10},\n",
              " '1007': {'name': 'Mic', 'pr': 1500, 'qn': 0},\n",
              " '1008': {'name': 'Case', 'pr': 599, 'qn': 4},\n",
              " '1009': {'name': 'Keyboard', 'pr': 1999, 'qn': 9},\n",
              " '1010': {'name': 'Mouse', 'pr': 999, 'qn': 15},\n",
              " '1011': {'name': 'Blutooth Speaker', 'pr': 2999, 'qn': 10},\n",
              " '1012': {'name': 'Earphones', 'pr': 499, 'qn': 24},\n",
              " '1013': {'name': 'Wireless Headphone', 'pr': 2299, 'qn': 17},\n",
              " '1014': {'name': 'Laptop', 'pr': 41999, 'qn': 6},\n",
              " '1015': {'name': 'Projector', 'pr': 3999, 'qn': 22},\n",
              " '1016': {'name': 'Pendrive 16GB', 'pr': 240, 'qn': 87},\n",
              " '1017': {'name': 'Pendrive 64GB', 'pr': 599, 'qn': 90},\n",
              " '1018': {'name': 'Stylus', 'pr': 680, 'qn': 10},\n",
              " '1019': {'name': 'Tablet', 'pr': 19000, 'qn': 6},\n",
              " '1020': {'name': 'Mobile-Touchscreen', 'pr': 13000, 'qn': 15},\n",
              " '1021': {'name': 'Mobile-Keypad', 'pr': 1999, 'qn': 9},\n",
              " '1022': {'name': 'Earbuds', 'pr': 1999, 'qn': 25},\n",
              " '1023': {'name': 'Laptop Stickers', 'pr': 199, 'qn': 130},\n",
              " '1024': {'name': 'Camera', 'pr': 1580, 'qn': 10},\n",
              " '1025': {'name': 'Wireless Security Camera', 'pr': 799, 'qn': 5},\n",
              " '1026': {'name': 'Laptop Bag', 'pr': 800, 'qn': 18},\n",
              " '1027': {'name': 'Learning Pad', 'pr': 299, 'qn': 25},\n",
              " '1028': {'name': 'Port-C charger', 'pr': 500, 'qn': 20},\n",
              " '1029': {'name': 'Mobile stand', 'pr': 650, 'qn': 14},\n",
              " '1030': {'name': 'Laptop Cover', 'pr': 499, 'qn': 16}}"
            ]
          },
          "metadata": {},
          "execution_count": 56
        }
      ]
    },
    {
      "cell_type": "markdown",
      "metadata": {
        "id": "7ruozSZcjOzD"
      },
      "source": [
        "## Purchase and updating inventory"
      ]
    },
    {
      "cell_type": "code",
      "metadata": {
        "id": "ZH2fsVA4_U4Q"
      },
      "source": [
        "f = open(\"sales.json\",'r')\n",
        "s=f.read()\n",
        "f.close()\n",
        "sale=json.loads(s)"
      ],
      "execution_count": 57,
      "outputs": []
    },
    {
      "cell_type": "code",
      "metadata": {
        "colab": {
          "base_uri": "https://localhost:8080/"
        },
        "id": "QTHE5VUCjSVU",
        "outputId": "f7cc6c87-9763-4a05-e84a-de00b900e7b6"
      },
      "source": [
        "s_id=len(sale)\n",
        "print(\"Welcome to the product store!\\n\")\n",
        "print(\"*****************************\")\n",
        "Total=0\n",
        "while (True):\n",
        "  print(\"_____________________________\\n\")\n",
        "  ui_prod  = str(input(\"Enter the product_Id: \"))\n",
        "  ui_quant = int(input(\"Enter the quantity: \"))\n",
        "  cn=0\n",
        "  for i in records:\n",
        "    cn+=1\n",
        "    if i==ui_prod:\n",
        "      if records[ui_prod]['qn']>0:\n",
        "        if records[ui_prod]['qn']-ui_quant <0:\n",
        "          print(\"Available product quantity: \"+str(records[ui_prod]['qn'])+\"\\n1\")\n",
        "          break\n",
        "        print(\"Product: \", records[ui_prod]['name'])\n",
        "        print(\"Price: \", records[ui_prod]['pr'])\n",
        "        Total+=records[ui_prod]['pr'] * ui_quant\n",
        "        sale[str(s_id)]={'prod' : ui_prod, 'qn' : ui_quant, 'amount': records[ui_prod]['pr'] * ui_quant}\n",
        "        s_id+=1\n",
        "        print(\"Billing Amount: \", records[ui_prod]['pr'] * ui_quant)\n",
        "        print(\"_____________________________\\n\")\n",
        "        records[ui_prod]['qn'] = records[ui_prod]['qn'] - ui_quant\n",
        "        break\n",
        "      else:\n",
        "        print(\"Product out of stock!\\n\")  \n",
        "        print(\"_____________________________\\n\")\n",
        "        break\n",
        "  if cn==len(records):  \n",
        "    print(\"Invalid product_Id!\\n\")  \n",
        "    print(\"_____________________________\\n\")\n",
        "  c=input(print(\"Do you want to purchase anyother product(y/n)?\"))\n",
        "  if c==\"n\" or c==\"N\":\n",
        "    print(\"******************************\")\n",
        "    print(\"Total Amount: \",Total)\n",
        "    print(\"******************************1\")\n",
        "    Total=0\n",
        "    break   \n",
        "\n",
        "      \n"
      ],
      "execution_count": 60,
      "outputs": [
        {
          "output_type": "stream",
          "name": "stdout",
          "text": [
            "Welcome to the product store!\n",
            "\n",
            "*****************************\n",
            "_____________________________\n",
            "\n",
            "Enter the product_Id: 1009\n",
            "Enter the quantity: 400\n",
            "Available product quantity: 9\n",
            "\n",
            "Do you want to purchase anyother product(y/n)?\n",
            "y\n",
            "_____________________________\n",
            "\n",
            "Enter the product_Id: 1003\n",
            "Enter the quantity: 2\n",
            "Product:  Ox-cable\n",
            "Price:  99\n",
            "Billing Amount:  198\n",
            "_____________________________\n",
            "\n",
            "Do you want to purchase anyother product(y/n)?\n",
            "y\n",
            "_____________________________\n",
            "\n",
            "Enter the product_Id: 1234\n",
            "Enter the quantity: 4\n",
            "Invalid product_Id!\n",
            "\n",
            "_____________________________\n",
            "\n",
            "Do you want to purchase anyother product(y/n)?\n",
            "y\n",
            "_____________________________\n",
            "\n",
            "Enter the product_Id: 1007\n",
            "Enter the quantity: 8\n",
            "Product out of stock!\n",
            "\n",
            "_____________________________\n",
            "\n",
            "Do you want to purchase anyother product(y/n)?\n",
            "y\n",
            "_____________________________\n",
            "\n",
            "Enter the product_Id: 1022\n",
            "Enter the quantity: 1\n",
            "Product:  Earbuds\n",
            "Price:  1999\n",
            "Billing Amount:  1999\n",
            "_____________________________\n",
            "\n",
            "Do you want to purchase anyother product(y/n)?\n",
            "n\n",
            "******************************\n",
            "Total Amount:  2197\n",
            "******************************1\n"
          ]
        }
      ]
    },
    {
      "cell_type": "markdown",
      "metadata": {
        "id": "uMVyabOljktm"
      },
      "source": [
        "## Update Inventory after purcahse"
      ]
    },
    {
      "cell_type": "code",
      "metadata": {
        "id": "H-8EuMDFjj_7"
      },
      "source": [
        "js = json.dumps(records)\n",
        "\n",
        "fd = open(\"record.json\",'w')\n",
        "fd.write(js)\n",
        "fd.close()\n"
      ],
      "execution_count": 61,
      "outputs": []
    },
    {
      "cell_type": "markdown",
      "metadata": {
        "id": "hW6sM89sjuPS"
      },
      "source": [
        "## Updating sales inventory"
      ]
    },
    {
      "cell_type": "code",
      "metadata": {
        "id": "qEJ9ORNbjyAd"
      },
      "source": [
        "sale_j = json.dumps(sale)\n",
        "fd = open(\"sales.json\",'w')\n",
        "fd.write(sale_j)\n",
        "fd.close()"
      ],
      "execution_count": 62,
      "outputs": []
    }
  ]
}